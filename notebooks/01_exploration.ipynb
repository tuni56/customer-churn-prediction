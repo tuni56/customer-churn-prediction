import pandas as pd

df = pd.read_csv("s3://churn-prediction-telecom/data/WA_Fn-UseC_-Telco-Customer-Churn.csv")
df.head()

from sklearn.model_selection import train_test_split
from sklearn.preprocessing import LabelEncoder

df = df.dropna()
le = LabelEncoder()
for col in df.select_dtypes(include=['object']).columns:
    df[col] = le.fit_transform(df[col])

X = df.drop("Churn", axis=1)
y = df["Churn"]

X_train, X_test, y_train, y_test = train_test_split(X, y, test_size=0.2, random_state=42)
